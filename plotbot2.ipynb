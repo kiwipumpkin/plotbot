{
 "cells": [
  {
   "cell_type": "code",
   "execution_count": 13,
   "metadata": {
    "scrolled": true
   },
   "outputs": [
    {
     "name": "stdout",
     "output_type": "stream",
     "text": [
      "Requirement already satisfied: extcolors in c:\\users\\kiwipumpkin\\anaconda3\\lib\\site-packages (1.0.0)\n",
      "Requirement already satisfied: convcolors>=1.0.0 in c:\\users\\kiwipumpkin\\anaconda3\\lib\\site-packages (from extcolors) (1.0.0)\n",
      "Requirement already satisfied: Pillow>=8.0.0 in c:\\users\\kiwipumpkin\\anaconda3\\lib\\site-packages (from extcolors) (8.3.1)\n",
      "Note: you may need to restart the kernel to use updated packages.\n"
     ]
    }
   ],
   "source": [
    "pip install extcolors"
   ]
  },
  {
   "cell_type": "code",
   "execution_count": null,
   "metadata": {},
   "outputs": [],
   "source": []
  },
  {
   "cell_type": "code",
   "execution_count": null,
   "metadata": {},
   "outputs": [],
   "source": []
  },
  {
   "cell_type": "code",
   "execution_count": 15,
   "metadata": {},
   "outputs": [
    {
     "name": "stdout",
     "output_type": "stream",
     "text": [
      "[((255, 255, 255), 516719), ((69, 114, 167), 4411), ((68, 68, 68), 3671), ((157, 162, 166), 781), ((120, 155, 93), 18)]\n"
     ]
    }
   ],
   "source": [
    "import extcolors\n",
    "colors, pixel_count = extcolors.extract_from_path(\"C:/Users/kiwipumpkin/Downloads/income.png\")\n",
    "print(colors)"
   ]
  },
  {
   "cell_type": "code",
   "execution_count": 19,
   "metadata": {},
   "outputs": [
    {
     "name": "stdout",
     "output_type": "stream",
     "text": [
      "Collecting webcolors\n",
      "  Downloading webcolors-1.11.1-py3-none-any.whl (9.9 kB)\n",
      "Installing collected packages: webcolors\n",
      "Successfully installed webcolors-1.11.1\n",
      "Note: you may need to restart the kernel to use updated packages.\n"
     ]
    }
   ],
   "source": [
    "pip install webcolors"
   ]
  },
  {
   "cell_type": "code",
   "execution_count": 20,
   "metadata": {},
   "outputs": [],
   "source": [
    "import webcolors"
   ]
  },
  {
   "cell_type": "code",
   "execution_count": 26,
   "metadata": {},
   "outputs": [
    {
     "name": "stdout",
     "output_type": "stream",
     "text": [
      "white\n"
     ]
    }
   ],
   "source": [
    "from webcolors import rgb_to_name\n",
    "named_color = rgb_to_name((255,255,255), spec='css3')\n",
    "print(named_color)"
   ]
  },
  {
   "cell_type": "code",
   "execution_count": 22,
   "metadata": {},
   "outputs": [
    {
     "data": {
      "text/plain": [
       "[((255, 255, 255), 516719),\n",
       " ((69, 114, 167), 4411),\n",
       " ((68, 68, 68), 3671),\n",
       " ((157, 162, 166), 781),\n",
       " ((120, 155, 93), 18)]"
      ]
     },
     "execution_count": 22,
     "metadata": {},
     "output_type": "execute_result"
    }
   ],
   "source": [
    "colors"
   ]
  },
  {
   "cell_type": "code",
   "execution_count": 27,
   "metadata": {},
   "outputs": [],
   "source": [
    "import numpy as np"
   ]
  },
  {
   "cell_type": "code",
   "execution_count": 28,
   "metadata": {},
   "outputs": [],
   "source": [
    "palette = np.array(colors)"
   ]
  },
  {
   "cell_type": "code",
   "execution_count": 29,
   "metadata": {},
   "outputs": [
    {
     "data": {
      "text/plain": [
       "array([[(255, 255, 255), 516719],\n",
       "       [(69, 114, 167), 4411],\n",
       "       [(68, 68, 68), 3671],\n",
       "       [(157, 162, 166), 781],\n",
       "       [(120, 155, 93), 18]], dtype=object)"
      ]
     },
     "execution_count": 29,
     "metadata": {},
     "output_type": "execute_result"
    }
   ],
   "source": [
    "palette"
   ]
  },
  {
   "cell_type": "code",
   "execution_count": 70,
   "metadata": {},
   "outputs": [
    {
     "data": {
      "text/plain": [
       "(69, 114, 167)"
      ]
     },
     "execution_count": 70,
     "metadata": {},
     "output_type": "execute_result"
    }
   ],
   "source": [
    "palette[1,0]"
   ]
  },
  {
   "cell_type": "code",
   "execution_count": 71,
   "metadata": {},
   "outputs": [],
   "source": [
    "import numpy as np\n",
    "import PIL\n",
    "import math\n",
    "\n",
    "# Load image and ensure RGB - just in case palettised\n",
    "im=Image.open(\"C:/Users/kiwipumpkin/Downloads/income.png\").convert(\"RGB\")\n",
    "\n",
    "# Make numpy array from image\n",
    "npimage=np.array(im)\n",
    "\n",
    "# Describe what a single red pixel looks like\n",
    "red=np.array(palette[1,0],dtype=np.uint8)\n",
    "\n",
    "# Find [x,y] coordinates of all red pixels\n",
    "reds=np.where(np.all((npimage==red),axis=-1))"
   ]
  },
  {
   "cell_type": "code",
   "execution_count": 72,
   "metadata": {},
   "outputs": [
    {
     "data": {
      "text/plain": [
       "(array([ 19,  19,  19, ..., 349, 349, 349], dtype=int64),\n",
       " array([123, 124, 125, ..., 257, 258, 259], dtype=int64))"
      ]
     },
     "execution_count": 72,
     "metadata": {},
     "output_type": "execute_result"
    }
   ],
   "source": [
    "reds"
   ]
  },
  {
   "cell_type": "code",
   "execution_count": 73,
   "metadata": {},
   "outputs": [],
   "source": [
    "redsT = np.transpose(reds)"
   ]
  },
  {
   "cell_type": "code",
   "execution_count": 74,
   "metadata": {},
   "outputs": [
    {
     "data": {
      "text/plain": [
       "array([[ 19, 123],\n",
       "       [ 19, 124],\n",
       "       [ 19, 125],\n",
       "       ...,\n",
       "       [349, 257],\n",
       "       [349, 258],\n",
       "       [349, 259]], dtype=int64)"
      ]
     },
     "execution_count": 74,
     "metadata": {},
     "output_type": "execute_result"
    }
   ],
   "source": [
    "redsT"
   ]
  },
  {
   "cell_type": "code",
   "execution_count": 75,
   "metadata": {},
   "outputs": [],
   "source": [
    "import matplotlib.pyplot as plt"
   ]
  },
  {
   "cell_type": "code",
   "execution_count": 86,
   "metadata": {},
   "outputs": [
    {
     "data": {
      "text/plain": [
       "[<matplotlib.lines.Line2D at 0x1f5ed00bfc8>,\n",
       " <matplotlib.lines.Line2D at 0x1f5ed024a88>]"
      ]
     },
     "execution_count": 86,
     "metadata": {},
     "output_type": "execute_result"
    },
    {
     "data": {
      "image/png": "[encoded data removed]",
      "text/plain": [
       "<Figure size 432x288 with 1 Axes>"
      ]
     },
     "metadata": {
      "needs_background": "light"
     },
     "output_type": "display_data"
    }
   ],
   "source": [
    "plt.plot(redsT)"
   ]
  },
  {
   "cell_type": "code",
   "execution_count": 114,
   "metadata": {},
   "outputs": [],
   "source": [
    "ry = redsT[:,1]"
   ]
  },
  {
   "cell_type": "code",
   "execution_count": null,
   "metadata": {},
   "outputs": [],
   "source": []
  },
  {
   "cell_type": "code",
   "execution_count": 108,
   "metadata": {},
   "outputs": [],
   "source": [
    "rx = redsT[:,0]"
   ]
  },
  {
   "cell_type": "code",
   "execution_count": 110,
   "metadata": {},
   "outputs": [
    {
     "data": {
      "text/plain": [
       "array([ 19,  19,  19, ..., 349, 349, 349], dtype=int64)"
      ]
     },
     "execution_count": 110,
     "metadata": {},
     "output_type": "execute_result"
    }
   ],
   "source": [
    "rx"
   ]
  },
  {
   "cell_type": "code",
   "execution_count": 111,
   "metadata": {},
   "outputs": [
    {
     "data": {
      "text/plain": [
       "array([123, 124, 125, ..., 257, 258, 259], dtype=int64)"
      ]
     },
     "execution_count": 111,
     "metadata": {},
     "output_type": "execute_result"
    }
   ],
   "source": [
    "ry"
   ]
  },
  {
   "cell_type": "code",
   "execution_count": 85,
   "metadata": {},
   "outputs": [
    {
     "name": "stdout",
     "output_type": "stream",
     "text": [
      "[[  19  123]\n",
      " [  19  124]\n",
      " [  19  125]\n",
      " [  19  126]\n",
      " [  19  127]\n",
      " [  19  128]\n",
      " [  19  129]\n",
      " [  19  130]\n",
      " [  19  131]\n",
      " [  19  132]\n",
      " [  19  133]\n",
      " [  19  134]\n",
      " [  19  135]\n",
      " [  19  136]\n",
      " [  19  137]\n",
      " [  19  138]\n",
      " [  20  123]\n",
      " [  20  124]\n",
      " [  20  125]\n",
      " [  20  126]\n",
      " [  20  127]\n",
      " [  20  128]\n",
      " [  20  129]\n",
      " [  20  130]\n",
      " [  20  131]\n",
      " [  20  132]\n",
      " [  20  133]\n",
      " [  20  134]\n",
      " [  20  135]\n",
      " [  20  136]\n",
      " [  20  137]\n",
      " [  20  138]\n",
      " [  51 1147]\n",
      " [  52 1146]\n",
      " [  53 1146]\n",
      " [  54 1145]\n",
      " [  56 1144]\n",
      " [  57 1143]\n",
      " [  58 1143]\n",
      " [  59 1142]\n",
      " [  60 1141]\n",
      " [  61 1141]\n",
      " [  62 1140]\n",
      " [  63 1140]\n",
      " [  64 1139]\n",
      " [  65 1138]\n",
      " [  66 1138]\n",
      " [  67 1137]\n",
      " [  68 1137]\n",
      " [  69 1136]\n",
      " [  70 1135]\n",
      " [  71 1135]\n",
      " [  72 1134]\n",
      " [  73 1134]\n",
      " [  74 1133]\n",
      " [  75 1132]\n",
      " [  76 1132]\n",
      " [  77 1131]\n",
      " [  79 1130]\n",
      " [  80 1129]\n",
      " [  81 1129]\n",
      " [  82 1128]\n",
      " [  83 1127]\n",
      " [  84 1127]\n",
      " [  85 1126]\n",
      " [  86 1126]\n",
      " [  87 1125]\n",
      " [  88 1124]\n",
      " [  88 1125]\n",
      " [  89 1123]\n",
      " [  89 1124]\n",
      " [  90 1122]\n",
      " [  90 1123]\n",
      " [  91 1121]\n",
      " [  91 1122]\n",
      " [  92 1120]\n",
      " [  92 1121]\n",
      " [  93 1119]\n",
      " [  93 1120]\n",
      " [  94 1118]\n",
      " [  94 1119]\n",
      " [  95 1117]\n",
      " [  95 1118]\n",
      " [  96 1116]\n",
      " [  97 1115]\n",
      " [  98 1114]\n",
      " [  99 1113]\n",
      " [ 100 1112]\n",
      " [ 101 1111]\n",
      " [ 102 1110]\n",
      " [ 103 1109]\n",
      " [ 104 1108]\n",
      " [ 105 1107]\n",
      " [ 106 1106]\n",
      " [ 107 1105]\n",
      " [ 108 1104]\n",
      " [ 109 1103]\n",
      " [ 110 1102]\n",
      " [ 111 1101]\n",
      " [ 112 1096]\n",
      " [ 112 1097]\n",
      " [ 112 1098]\n",
      " [ 112 1099]\n",
      " [ 113 1091]\n",
      " [ 113 1092]\n",
      " [ 113 1093]\n",
      " [ 113 1094]\n",
      " [ 114 1085]\n",
      " [ 114 1086]\n",
      " [ 114 1087]\n",
      " [ 114 1088]\n",
      " [ 114 1089]\n",
      " [ 115 1080]\n",
      " [ 115 1081]\n",
      " [ 115 1082]\n",
      " [ 115 1083]\n",
      " [ 115 1084]\n",
      " [ 116 1076]\n",
      " [ 116 1077]\n",
      " [ 116 1078]\n",
      " [ 116 1079]\n",
      " [ 117 1074]\n",
      " [ 117 1075]\n",
      " [ 117 1076]\n",
      " [ 118 1073]\n",
      " [ 118 1074]\n",
      " [ 119 1071]\n",
      " [ 119 1072]\n",
      " [ 120 1069]\n",
      " [ 120 1070]\n",
      " [ 121  865]\n",
      " [ 121  866]\n",
      " [ 121 1067]\n",
      " [ 121 1068]\n",
      " [ 122  856]\n",
      " [ 122  857]\n",
      " [ 122  858]\n",
      " [ 122  859]\n",
      " [ 122  860]\n",
      " [ 122  861]\n",
      " [ 122  862]\n",
      " [ 122  863]\n",
      " [ 122  864]\n",
      " [ 122  865]\n",
      " [ 122  866]\n",
      " [ 122  867]\n",
      " [ 122 1065]\n",
      " [ 122 1066]\n",
      " [ 123  847]\n",
      " [ 123  848]\n",
      " [ 123  849]\n",
      " [ 123  850]\n",
      " [ 123  851]\n",
      " [ 123  852]\n",
      " [ 123  853]\n",
      " [ 123  854]\n",
      " [ 123  855]\n",
      " [ 123  867]\n",
      " [ 123  868]\n",
      " [ 123 1063]\n",
      " [ 123 1064]\n",
      " [ 124  842]\n",
      " [ 124  843]\n",
      " [ 124  844]\n",
      " [ 124  845]\n",
      " [ 124  846]\n",
      " [ 124  847]\n",
      " [ 124  868]\n",
      " [ 124 1061]\n",
      " [ 124 1062]\n",
      " [ 125  841]\n",
      " [ 125  842]\n",
      " [ 125  869]\n",
      " [ 125 1059]\n",
      " [ 125 1060]\n",
      " [ 126  840]\n",
      " [ 126  870]\n",
      " [ 126 1057]\n",
      " [ 127  839]\n",
      " [ 127  870]\n",
      " [ 127  871]\n",
      " [ 127 1055]\n",
      " [ 127 1056]\n",
      " [ 128  838]\n",
      " [ 128  871]\n",
      " [ 128 1053]\n",
      " [ 128 1054]\n",
      " [ 129  837]\n",
      " [ 129  872]\n",
      " [ 129 1053]\n",
      " [ 130  836]\n",
      " [ 130  873]\n",
      " [ 130 1052]\n",
      " [ 131  835]\n",
      " [ 131 1052]\n",
      " [ 132  833]\n",
      " [ 132  874]\n",
      " [ 132 1051]\n",
      " [ 133  832]\n",
      " [ 133  875]\n",
      " [ 133 1050]\n",
      " [ 134  831]\n",
      " [ 134  876]\n",
      " [ 134 1050]\n",
      " [ 135  830]\n",
      " [ 135  876]\n",
      " [ 135 1049]\n",
      " [ 136  829]\n",
      " [ 136  877]\n",
      " [ 136 1048]\n",
      " [ 137  828]\n",
      " [ 137  878]\n",
      " [ 137 1048]\n",
      " [ 138  826]\n",
      " [ 138  879]\n",
      " [ 138 1047]\n",
      " [ 139  825]\n",
      " [ 139  879]\n",
      " [ 139 1046]\n",
      " [ 140  824]\n",
      " [ 140  880]\n",
      " [ 140 1046]\n",
      " [ 141  823]\n",
      " [ 141  881]\n",
      " [ 141 1045]\n",
      " [ 142  700]\n",
      " [ 142  701]\n",
      " [ 142  702]\n",
      " [ 142  703]\n",
      " [ 142  704]\n",
      " [ 142  705]\n",
      " [ 142  822]\n",
      " [ 142  882]\n",
      " [ 142 1044]\n",
      " [ 143  697]\n",
      " [ 143  698]\n",
      " [ 143  699]\n",
      " [ 143  706]\n",
      " [ 143  707]\n",
      " [ 143  708]\n",
      " [ 143  709]\n",
      " [ 143  821]\n",
      " [ 143  882]\n",
      " [ 143 1044]\n",
      " [ 144  694]\n",
      " [ 144  695]\n",
      " [ 144  696]\n",
      " [ 144  709]\n",
      " [ 144  710]\n",
      " [ 144  711]\n",
      " [ 144  712]\n",
      " [ 144  819]\n",
      " [ 144  820]\n",
      " [ 144  883]\n",
      " [ 144 1043]\n",
      " [ 145  691]\n",
      " [ 145  692]\n",
      " [ 145  693]\n",
      " [ 145  713]\n",
      " [ 145  714]\n",
      " [ 145  715]\n",
      " [ 145  716]\n",
      " [ 145  817]\n",
      " [ 145  818]\n",
      " [ 145  884]\n",
      " [ 145 1042]\n",
      " [ 146  688]\n",
      " [ 146  689]\n",
      " [ 146  690]\n",
      " [ 146  717]\n",
      " [ 146  718]\n",
      " [ 146  719]\n",
      " [ 146  814]\n",
      " [ 146  815]\n",
      " [ 146  885]\n",
      " [ 146 1042]\n",
      " [ 147  685]\n",
      " [ 147  686]\n",
      " [ 147  687]\n",
      " [ 147  688]\n",
      " [ 147  720]\n",
      " [ 147  721]\n",
      " [ 147  722]\n",
      " [ 147  723]\n",
      " [ 147  812]\n",
      " [ 147  813]\n",
      " [ 147  885]\n",
      " [ 147 1041]\n",
      " [ 148  682]\n",
      " [ 148  683]\n",
      " [ 148  684]\n",
      " [ 148  685]\n",
      " [ 148  723]\n",
      " [ 148  724]\n",
      " [ 148  725]\n",
      " [ 148  726]\n",
      " [ 148  809]\n",
      " [ 148  810]\n",
      " [ 148  811]\n",
      " [ 148  886]\n",
      " [ 148 1040]\n",
      " [ 148 1041]\n",
      " [ 149  680]\n",
      " [ 149  681]\n",
      " [ 149  682]\n",
      " [ 149  727]\n",
      " [ 149  728]\n",
      " [ 149  729]\n",
      " [ 149  730]\n",
      " [ 149  731]\n",
      " [ 149  807]\n",
      " [ 149  808]\n",
      " [ 149  809]\n",
      " [ 149  887]\n",
      " [ 149 1040]\n",
      " [ 150  676]\n",
      " [ 150  677]\n",
      " [ 150  678]\n",
      " [ 150  679]\n",
      " [ 150  731]\n",
      " [ 150  732]\n",
      " [ 150  733]\n",
      " [ 150  734]\n",
      " [ 150  735]\n",
      " [ 150  805]\n",
      " [ 150  806]\n",
      " [ 150  887]\n",
      " [ 150  888]\n",
      " [ 150 1039]\n",
      " [ 151  673]\n",
      " [ 151  674]\n",
      " [ 151  675]\n",
      " [ 151  676]\n",
      " [ 151  736]\n",
      " [ 151  737]\n",
      " [ 151  738]\n",
      " [ 151  739]\n",
      " [ 151  740]\n",
      " [ 151  802]\n",
      " [ 151  803]\n",
      " [ 151  804]\n",
      " [ 151  888]\n",
      " [ 151 1038]\n",
      " [ 151 1039]\n",
      " [ 152  670]\n",
      " [ 152  671]\n",
      " [ 152  672]\n",
      " [ 152  673]\n",
      " [ 152  740]\n",
      " [ 152  741]\n",
      " [ 152  742]\n",
      " [ 152  743]\n",
      " [ 152  744]\n",
      " [ 152  762]\n",
      " [ 152  763]\n",
      " [ 152  764]\n",
      " [ 152  765]\n",
      " [ 152  766]\n",
      " [ 152  767]\n",
      " [ 152  768]\n",
      " [ 152  769]\n",
      " [ 152  770]\n",
      " [ 152  771]\n",
      " [ 152  772]\n",
      " [ 152  773]\n",
      " [ 152  774]\n",
      " [ 152  775]\n",
      " [ 152  776]\n",
      " [ 152  777]\n",
      " [ 152  778]\n",
      " [ 152  779]\n",
      " [ 152  780]\n",
      " [ 152  800]\n",
      " [ 152  801]\n",
      " [ 152  889]\n",
      " [ 152 1038]\n",
      " [ 153  667]\n",
      " [ 153  668]\n",
      " [ 153  669]\n",
      " [ 153  670]\n",
      " [ 153  745]\n",
      " [ 153  746]\n",
      " [ 153  747]\n",
      " [ 153  748]\n",
      " [ 153  749]\n",
      " [ 153  750]\n",
      " [ 153  751]\n",
      " [ 153  752]\n",
      " [ 153  753]\n",
      " [ 153  754]\n",
      " [ 153  755]\n",
      " [ 153  756]\n",
      " [ 153  757]\n",
      " [ 153  758]\n",
      " [ 153  759]\n",
      " [ 153  760]\n",
      " [ 153  761]\n",
      " [ 153  762]\n",
      " [ 153  780]\n",
      " [ 153  781]\n",
      " [ 153  782]\n",
      " [ 153  783]\n",
      " [ 153  784]\n",
      " [ 153  785]\n",
      " [ 153  786]\n",
      " [ 153  787]\n",
      " [ 153  788]\n",
      " [ 153  789]\n",
      " [ 153  790]\n",
      " [ 153  791]\n",
      " [ 153  798]\n",
      " [ 153  799]\n",
      " [ 153  890]\n",
      " [ 153  891]\n",
      " [ 153  892]\n",
      " [ 153 1037]\n",
      " [ 154  664]\n",
      " [ 154  665]\n",
      " [ 154  666]\n",
      " [ 154  749]\n",
      " [ 154  791]\n",
      " [ 154  792]\n",
      " [ 154  793]\n",
      " [ 154  794]\n",
      " [ 154  795]\n",
      " [ 154  796]\n",
      " [ 154  797]\n",
      " [ 154  892]\n",
      " [ 154  893]\n",
      " [ 154  894]\n",
      " [ 154  895]\n",
      " [ 154 1036]\n",
      " [ 154 1037]\n",
      " [ 155  661]\n",
      " [ 155  662]\n",
      " [ 155  663]\n",
      " [ 155  895]\n",
      " [ 155  896]\n",
      " [ 155  897]\n",
      " [ 155  898]\n",
      " [ 155 1036]\n",
      " [ 156  657]\n",
      " [ 156  658]\n",
      " [ 156  659]\n",
      " [ 156  660]\n",
      " [ 156  898]\n",
      " [ 156  899]\n",
      " [ 156  900]\n",
      " [ 156  901]\n",
      " [ 156 1035]\n",
      " [ 157  655]\n",
      " [ 157  656]\n",
      " [ 157  657]\n",
      " [ 157  901]\n",
      " [ 157  902]\n",
      " [ 157  903]\n",
      " [ 157  904]\n",
      " [ 157 1034]\n",
      " [ 157 1035]\n",
      " [ 158  654]\n",
      " [ 158  655]\n",
      " [ 158  904]\n",
      " [ 158  905]\n",
      " [ 158  906]\n",
      " [ 158  907]\n",
      " [ 158 1034]\n",
      " [ 159  654]\n",
      " [ 159  908]\n",
      " [ 159  909]\n",
      " [ 159  910]\n",
      " [ 159 1033]\n",
      " [ 160  653]\n",
      " [ 160  911]\n",
      " [ 160  912]\n",
      " [ 160  913]\n",
      " [ 160 1033]\n",
      " [ 161  652]\n",
      " [ 161  913]\n",
      " [ 161  914]\n",
      " [ 161  915]\n",
      " [ 161 1032]\n",
      " [ 162  652]\n",
      " [ 162  916]\n",
      " [ 162  917]\n",
      " [ 162 1031]\n",
      " [ 163  651]\n",
      " [ 163  918]\n",
      " [ 163  919]\n",
      " [ 163 1031]\n",
      " [ 164  650]\n",
      " [ 164  920]\n",
      " [ 164  921]\n",
      " [ 164  922]\n",
      " [ 164 1029]\n",
      " [ 164 1030]\n",
      " [ 165  650]\n",
      " [ 165  922]\n",
      " [ 165  923]\n",
      " [ 165 1028]\n",
      " [ 166  649]]\n"
     ]
    }
   ],
   "source": [
    "print(redsT[:500])"
   ]
  },
  {
   "cell_type": "code",
   "execution_count": 96,
   "metadata": {},
   "outputs": [],
   "source": [
    "rx = redsT[x,:]"
   ]
  },
  {
   "cell_type": "code",
   "execution_count": 77,
   "metadata": {},
   "outputs": [
    {
     "data": {
      "text/plain": [
       "1183"
      ]
     },
     "execution_count": 77,
     "metadata": {},
     "output_type": "execute_result"
    }
   ],
   "source": [
    "len(redsT)"
   ]
  },
  {
   "cell_type": "code",
   "execution_count": 97,
   "metadata": {},
   "outputs": [
    {
     "data": {
      "text/plain": [
       "array([ 19, 128], dtype=int64)"
      ]
     },
     "execution_count": 97,
     "metadata": {},
     "output_type": "execute_result"
    }
   ],
   "source": [
    "rx"
   ]
  },
  {
   "cell_type": "code",
   "execution_count": 78,
   "metadata": {},
   "outputs": [],
   "source": [
    "import pandas as pd"
   ]
  },
  {
   "cell_type": "code",
   "execution_count": 112,
   "metadata": {},
   "outputs": [
    {
     "data": {
      "text/plain": [
       "<matplotlib.collections.PathCollection at 0x1f5ed264348>"
      ]
     },
     "execution_count": 112,
     "metadata": {},
     "output_type": "execute_result"
    },
    {
     "data": {
      "image/png": "[encoded data removed]",
      "text/plain": [
       "<Figure size 432x288 with 1 Axes>"
      ]
     },
     "metadata": {
      "needs_background": "light"
     },
     "output_type": "display_data"
    }
   ],
   "source": [
    "plt.scatter(rx, ry)"
   ]
  },
  {
   "cell_type": "code",
   "execution_count": 115,
   "metadata": {},
   "outputs": [
    {
     "data": {
      "text/plain": [
       "<matplotlib.collections.PathCollection at 0x1f5ed2c0f88>"
      ]
     },
     "execution_count": 115,
     "metadata": {},
     "output_type": "execute_result"
    },
    {
     "data": {
      "image/png": "[encoded data removed]",
      "text/plain": [
       "<Figure size 432x288 with 1 Axes>"
      ]
     },
     "metadata": {
      "needs_background": "light"
     },
     "output_type": "display_data"
    }
   ],
   "source": [
    "plt.scatter(ry, rx)"
   ]
  },
  {
   "cell_type": "code",
   "execution_count": 117,
   "metadata": {},
   "outputs": [],
   "source": [
    "rxn = -rx"
   ]
  },
  {
   "cell_type": "code",
   "execution_count": 118,
   "metadata": {},
   "outputs": [
    {
     "data": {
      "text/plain": [
       "<matplotlib.collections.PathCollection at 0x1f5ed325b88>"
      ]
     },
     "execution_count": 118,
     "metadata": {},
     "output_type": "execute_result"
    },
    {
     "data": {
      "image/png": "[encoded data removed]",
      "text/plain": [
       "<Figure size 432x288 with 1 Axes>"
      ]
     },
     "metadata": {
      "needs_background": "light"
     },
     "output_type": "display_data"
    }
   ],
   "source": [
    "plt.scatter(ry, rxn)"
   ]
  },
  {
   "cell_type": "code",
   "execution_count": 119,
   "metadata": {},
   "outputs": [],
   "source": [
    "rxns = rxn + 400"
   ]
  },
  {
   "cell_type": "code",
   "execution_count": 120,
   "metadata": {},
   "outputs": [
    {
     "data": {
      "text/plain": [
       "<matplotlib.collections.PathCollection at 0x1f5ed385b48>"
      ]
     },
     "execution_count": 120,
     "metadata": {},
     "output_type": "execute_result"
    },
    {
     "data": {
      "image/png": "[encoded data removed]",
      "text/plain": [
       "<Figure size 432x288 with 1 Axes>"
      ]
     },
     "metadata": {
      "needs_background": "light"
     },
     "output_type": "display_data"
    }
   ],
   "source": [
    "plt.scatter(ry, rxns)"
   ]
  },
  {
   "cell_type": "code",
   "execution_count": 122,
   "metadata": {},
   "outputs": [
    {
     "name": "stdout",
     "output_type": "stream",
     "text": [
      "Collecting opencv-python\n",
      "  Downloading opencv_python-4.5.3.56-cp37-cp37m-win_amd64.whl (34.9 MB)\n",
      "Requirement already satisfied: numpy>=1.14.5 in c:\\users\\kiwipumpkin\\anaconda3\\lib\\site-packages (from opencv-python) (1.18.1)\n",
      "Installing collected packages: opencv-python\n",
      "Successfully installed opencv-python-4.5.3.56\n",
      "Note: you may need to restart the kernel to use updated packages.\n"
     ]
    }
   ],
   "source": [
    "pip install opencv-python"
   ]
  },
  {
   "cell_type": "code",
   "execution_count": 123,
   "metadata": {},
   "outputs": [
    {
     "name": "stdout",
     "output_type": "stream",
     "text": [
      "Requirement already satisfied: pytesseract in c:\\users\\kiwipumpkin\\anaconda3\\lib\\site-packages (0.3.8)\n",
      "Requirement already satisfied: Pillow in c:\\users\\kiwipumpkin\\anaconda3\\lib\\site-packages (from pytesseract) (8.3.1)\n",
      "Note: you may need to restart the kernel to use updated packages.\n"
     ]
    }
   ],
   "source": [
    "pip install pytesseract"
   ]
  },
  {
   "cell_type": "code",
   "execution_count": 124,
   "metadata": {},
   "outputs": [],
   "source": [
    "import cv2\n",
    "import pytesseract\n",
    "  "
   ]
  },
  {
   "cell_type": "code",
   "execution_count": 125,
   "metadata": {},
   "outputs": [
    {
     "data": {
      "text/plain": [
       "-349"
      ]
     },
     "execution_count": 125,
     "metadata": {},
     "output_type": "execute_result"
    }
   ],
   "source": [
    "min(rxn)"
   ]
  },
  {
   "cell_type": "code",
   "execution_count": 126,
   "metadata": {},
   "outputs": [
    {
     "data": {
      "text/plain": [
       "-19"
      ]
     },
     "execution_count": 126,
     "metadata": {},
     "output_type": "execute_result"
    }
   ],
   "source": [
    "max(rxn)"
   ]
  },
  {
   "cell_type": "code",
   "execution_count": 174,
   "metadata": {},
   "outputs": [],
   "source": [
    "rxnss = rxns*(36000-23000)/(max(rxns)-min(rxns)) + 21000"
   ]
  },
  {
   "cell_type": "code",
   "execution_count": 175,
   "metadata": {},
   "outputs": [
    {
     "data": {
      "text/plain": [
       "381"
      ]
     },
     "execution_count": 175,
     "metadata": {},
     "output_type": "execute_result"
    }
   ],
   "source": [
    "max(rxns)"
   ]
  },
  {
   "cell_type": "code",
   "execution_count": 176,
   "metadata": {},
   "outputs": [
    {
     "data": {
      "text/plain": [
       "51"
      ]
     },
     "execution_count": 176,
     "metadata": {},
     "output_type": "execute_result"
    }
   ],
   "source": [
    "min(rxns)\n"
   ]
  },
  {
   "cell_type": "code",
   "execution_count": 177,
   "metadata": {},
   "outputs": [
    {
     "data": {
      "text/plain": [
       "381"
      ]
     },
     "execution_count": 177,
     "metadata": {},
     "output_type": "execute_result"
    }
   ],
   "source": [
    "max(rxns)"
   ]
  },
  {
   "cell_type": "code",
   "execution_count": 178,
   "metadata": {},
   "outputs": [
    {
     "data": {
      "text/plain": [
       "1183"
      ]
     },
     "execution_count": 178,
     "metadata": {},
     "output_type": "execute_result"
    }
   ],
   "source": [
    "len(rxns)"
   ]
  },
  {
   "cell_type": "code",
   "execution_count": 179,
   "metadata": {},
   "outputs": [],
   "source": [
    "ryss = 1975 + ry * (2021 - 1975)/max(ry)"
   ]
  },
  {
   "cell_type": "code",
   "execution_count": 180,
   "metadata": {},
   "outputs": [
    {
     "data": {
      "text/plain": [
       "<matplotlib.collections.PathCollection at 0x1f5ed73a448>"
      ]
     },
     "execution_count": 180,
     "metadata": {},
     "output_type": "execute_result"
    },
    {
     "data": {
      "image/png": "[encoded data removed]",
      "text/plain": [
       "<Figure size 432x288 with 1 Axes>"
      ]
     },
     "metadata": {
      "needs_background": "light"
     },
     "output_type": "display_data"
    }
   ],
   "source": [
    "plt.scatter(ryss, rxnss)"
   ]
  },
  {
   "cell_type": "code",
   "execution_count": 182,
   "metadata": {},
   "outputs": [
    {
     "ename": "AttributeError",
     "evalue": "module 'pandas' has no attribute 'Dataframe'",
     "output_type": "error",
     "traceback": [
      "\u001b[1;31m---------------------------------------------------------------------------\u001b[0m",
      "\u001b[1;31mAttributeError\u001b[0m                            Traceback (most recent call last)",
      "\u001b[1;32m<ipython-input-182-971414b47993>\u001b[0m in \u001b[0;36m<module>\u001b[1;34m\u001b[0m\n\u001b[1;32m----> 1\u001b[1;33m \u001b[0mdf\u001b[0m \u001b[1;33m=\u001b[0m \u001b[0mpd\u001b[0m\u001b[1;33m.\u001b[0m\u001b[0mDataframe\u001b[0m\u001b[1;33m(\u001b[0m\u001b[0mryss\u001b[0m\u001b[1;33m,\u001b[0m \u001b[0mrxnss\u001b[0m\u001b[1;33m)\u001b[0m\u001b[1;33m\u001b[0m\u001b[1;33m\u001b[0m\u001b[0m\n\u001b[0m",
      "\u001b[1;32m~\\anaconda3\\lib\\site-packages\\pandas\\__init__.py\u001b[0m in \u001b[0;36m__getattr__\u001b[1;34m(name)\u001b[0m\n\u001b[0;32m    260\u001b[0m             \u001b[1;32mreturn\u001b[0m \u001b[0m_SparseArray\u001b[0m\u001b[1;33m\u001b[0m\u001b[1;33m\u001b[0m\u001b[0m\n\u001b[0;32m    261\u001b[0m \u001b[1;33m\u001b[0m\u001b[0m\n\u001b[1;32m--> 262\u001b[1;33m         \u001b[1;32mraise\u001b[0m \u001b[0mAttributeError\u001b[0m\u001b[1;33m(\u001b[0m\u001b[1;34mf\"module 'pandas' has no attribute '{name}'\"\u001b[0m\u001b[1;33m)\u001b[0m\u001b[1;33m\u001b[0m\u001b[1;33m\u001b[0m\u001b[0m\n\u001b[0m\u001b[0;32m    263\u001b[0m \u001b[1;33m\u001b[0m\u001b[0m\n\u001b[0;32m    264\u001b[0m \u001b[1;33m\u001b[0m\u001b[0m\n",
      "\u001b[1;31mAttributeError\u001b[0m: module 'pandas' has no attribute 'Dataframe'"
     ]
    }
   ],
   "source": []
  },
  {
   "cell_type": "code",
   "execution_count": 184,
   "metadata": {},
   "outputs": [],
   "source": [
    "df = pd.DataFrame({'x':ryss, 'y':rxnss})"
   ]
  },
  {
   "cell_type": "code",
   "execution_count": 185,
   "metadata": {},
   "outputs": [
    {
     "data": {
      "text/html": [
       "<div>\n",
       "<style scoped>\n",
       "    .dataframe tbody tr th:only-of-type {\n",
       "        vertical-align: middle;\n",
       "    }\n",
       "\n",
       "    .dataframe tbody tr th {\n",
       "        vertical-align: top;\n",
       "    }\n",
       "\n",
       "    .dataframe thead th {\n",
       "        text-align: right;\n",
       "    }\n",
       "</style>\n",
       "<table border=\"1\" class=\"dataframe\">\n",
       "  <thead>\n",
       "    <tr style=\"text-align: right;\">\n",
       "      <th></th>\n",
       "      <th>x</th>\n",
       "      <th>y</th>\n",
       "    </tr>\n",
       "  </thead>\n",
       "  <tbody>\n",
       "    <tr>\n",
       "      <th>0</th>\n",
       "      <td>1979.932868</td>\n",
       "      <td>36009.090909</td>\n",
       "    </tr>\n",
       "    <tr>\n",
       "      <th>1</th>\n",
       "      <td>1979.972973</td>\n",
       "      <td>36009.090909</td>\n",
       "    </tr>\n",
       "    <tr>\n",
       "      <th>2</th>\n",
       "      <td>1980.013078</td>\n",
       "      <td>36009.090909</td>\n",
       "    </tr>\n",
       "    <tr>\n",
       "      <th>3</th>\n",
       "      <td>1980.053182</td>\n",
       "      <td>36009.090909</td>\n",
       "    </tr>\n",
       "    <tr>\n",
       "      <th>4</th>\n",
       "      <td>1980.093287</td>\n",
       "      <td>36009.090909</td>\n",
       "    </tr>\n",
       "    <tr>\n",
       "      <th>...</th>\n",
       "      <td>...</td>\n",
       "      <td>...</td>\n",
       "    </tr>\n",
       "    <tr>\n",
       "      <th>1178</th>\n",
       "      <td>1985.226678</td>\n",
       "      <td>23009.090909</td>\n",
       "    </tr>\n",
       "    <tr>\n",
       "      <th>1179</th>\n",
       "      <td>1985.266783</td>\n",
       "      <td>23009.090909</td>\n",
       "    </tr>\n",
       "    <tr>\n",
       "      <th>1180</th>\n",
       "      <td>1985.306888</td>\n",
       "      <td>23009.090909</td>\n",
       "    </tr>\n",
       "    <tr>\n",
       "      <th>1181</th>\n",
       "      <td>1985.346992</td>\n",
       "      <td>23009.090909</td>\n",
       "    </tr>\n",
       "    <tr>\n",
       "      <th>1182</th>\n",
       "      <td>1985.387097</td>\n",
       "      <td>23009.090909</td>\n",
       "    </tr>\n",
       "  </tbody>\n",
       "</table>\n",
       "<p>1183 rows × 2 columns</p>\n",
       "</div>"
      ],
      "text/plain": [
       "                x             y\n",
       "0     1979.932868  36009.090909\n",
       "1     1979.972973  36009.090909\n",
       "2     1980.013078  36009.090909\n",
       "3     1980.053182  36009.090909\n",
       "4     1980.093287  36009.090909\n",
       "...           ...           ...\n",
       "1178  1985.226678  23009.090909\n",
       "1179  1985.266783  23009.090909\n",
       "1180  1985.306888  23009.090909\n",
       "1181  1985.346992  23009.090909\n",
       "1182  1985.387097  23009.090909\n",
       "\n",
       "[1183 rows x 2 columns]"
      ]
     },
     "execution_count": 185,
     "metadata": {},
     "output_type": "execute_result"
    }
   ],
   "source": [
    "df"
   ]
  },
  {
   "cell_type": "code",
   "execution_count": 186,
   "metadata": {},
   "outputs": [],
   "source": [
    "df2 = df.round(0)"
   ]
  },
  {
   "cell_type": "code",
   "execution_count": 187,
   "metadata": {},
   "outputs": [
    {
     "data": {
      "text/html": [
       "<div>\n",
       "<style scoped>\n",
       "    .dataframe tbody tr th:only-of-type {\n",
       "        vertical-align: middle;\n",
       "    }\n",
       "\n",
       "    .dataframe tbody tr th {\n",
       "        vertical-align: top;\n",
       "    }\n",
       "\n",
       "    .dataframe thead th {\n",
       "        text-align: right;\n",
       "    }\n",
       "</style>\n",
       "<table border=\"1\" class=\"dataframe\">\n",
       "  <thead>\n",
       "    <tr style=\"text-align: right;\">\n",
       "      <th></th>\n",
       "      <th>x</th>\n",
       "      <th>y</th>\n",
       "    </tr>\n",
       "  </thead>\n",
       "  <tbody>\n",
       "    <tr>\n",
       "      <th>0</th>\n",
       "      <td>1980.0</td>\n",
       "      <td>36009.0</td>\n",
       "    </tr>\n",
       "    <tr>\n",
       "      <th>1</th>\n",
       "      <td>1980.0</td>\n",
       "      <td>36009.0</td>\n",
       "    </tr>\n",
       "    <tr>\n",
       "      <th>2</th>\n",
       "      <td>1980.0</td>\n",
       "      <td>36009.0</td>\n",
       "    </tr>\n",
       "    <tr>\n",
       "      <th>3</th>\n",
       "      <td>1980.0</td>\n",
       "      <td>36009.0</td>\n",
       "    </tr>\n",
       "    <tr>\n",
       "      <th>4</th>\n",
       "      <td>1980.0</td>\n",
       "      <td>36009.0</td>\n",
       "    </tr>\n",
       "    <tr>\n",
       "      <th>...</th>\n",
       "      <td>...</td>\n",
       "      <td>...</td>\n",
       "    </tr>\n",
       "    <tr>\n",
       "      <th>1178</th>\n",
       "      <td>1985.0</td>\n",
       "      <td>23009.0</td>\n",
       "    </tr>\n",
       "    <tr>\n",
       "      <th>1179</th>\n",
       "      <td>1985.0</td>\n",
       "      <td>23009.0</td>\n",
       "    </tr>\n",
       "    <tr>\n",
       "      <th>1180</th>\n",
       "      <td>1985.0</td>\n",
       "      <td>23009.0</td>\n",
       "    </tr>\n",
       "    <tr>\n",
       "      <th>1181</th>\n",
       "      <td>1985.0</td>\n",
       "      <td>23009.0</td>\n",
       "    </tr>\n",
       "    <tr>\n",
       "      <th>1182</th>\n",
       "      <td>1985.0</td>\n",
       "      <td>23009.0</td>\n",
       "    </tr>\n",
       "  </tbody>\n",
       "</table>\n",
       "<p>1183 rows × 2 columns</p>\n",
       "</div>"
      ],
      "text/plain": [
       "           x        y\n",
       "0     1980.0  36009.0\n",
       "1     1980.0  36009.0\n",
       "2     1980.0  36009.0\n",
       "3     1980.0  36009.0\n",
       "4     1980.0  36009.0\n",
       "...      ...      ...\n",
       "1178  1985.0  23009.0\n",
       "1179  1985.0  23009.0\n",
       "1180  1985.0  23009.0\n",
       "1181  1985.0  23009.0\n",
       "1182  1985.0  23009.0\n",
       "\n",
       "[1183 rows x 2 columns]"
      ]
     },
     "execution_count": 187,
     "metadata": {},
     "output_type": "execute_result"
    }
   ],
   "source": [
    "df2"
   ]
  },
  {
   "cell_type": "code",
   "execution_count": 188,
   "metadata": {},
   "outputs": [],
   "source": [
    "df3 = df2.drop_duplicates()"
   ]
  },
  {
   "cell_type": "code",
   "execution_count": 189,
   "metadata": {},
   "outputs": [
    {
     "data": {
      "text/html": [
       "<div>\n",
       "<style scoped>\n",
       "    .dataframe tbody tr th:only-of-type {\n",
       "        vertical-align: middle;\n",
       "    }\n",
       "\n",
       "    .dataframe tbody tr th {\n",
       "        vertical-align: top;\n",
       "    }\n",
       "\n",
       "    .dataframe thead th {\n",
       "        text-align: right;\n",
       "    }\n",
       "</style>\n",
       "<table border=\"1\" class=\"dataframe\">\n",
       "  <thead>\n",
       "    <tr style=\"text-align: right;\">\n",
       "      <th></th>\n",
       "      <th>x</th>\n",
       "      <th>y</th>\n",
       "    </tr>\n",
       "  </thead>\n",
       "  <tbody>\n",
       "    <tr>\n",
       "      <th>0</th>\n",
       "      <td>1980.0</td>\n",
       "      <td>36009.0</td>\n",
       "    </tr>\n",
       "    <tr>\n",
       "      <th>15</th>\n",
       "      <td>1981.0</td>\n",
       "      <td>36009.0</td>\n",
       "    </tr>\n",
       "    <tr>\n",
       "      <th>16</th>\n",
       "      <td>1980.0</td>\n",
       "      <td>35970.0</td>\n",
       "    </tr>\n",
       "    <tr>\n",
       "      <th>31</th>\n",
       "      <td>1981.0</td>\n",
       "      <td>35970.0</td>\n",
       "    </tr>\n",
       "    <tr>\n",
       "      <th>32</th>\n",
       "      <td>2021.0</td>\n",
       "      <td>34748.0</td>\n",
       "    </tr>\n",
       "    <tr>\n",
       "      <th>...</th>\n",
       "      <td>...</td>\n",
       "      <td>...</td>\n",
       "    </tr>\n",
       "    <tr>\n",
       "      <th>1165</th>\n",
       "      <td>1985.0</td>\n",
       "      <td>23088.0</td>\n",
       "    </tr>\n",
       "    <tr>\n",
       "      <th>1167</th>\n",
       "      <td>1986.0</td>\n",
       "      <td>23088.0</td>\n",
       "    </tr>\n",
       "    <tr>\n",
       "      <th>1171</th>\n",
       "      <td>1985.0</td>\n",
       "      <td>23048.0</td>\n",
       "    </tr>\n",
       "    <tr>\n",
       "      <th>1176</th>\n",
       "      <td>1986.0</td>\n",
       "      <td>23048.0</td>\n",
       "    </tr>\n",
       "    <tr>\n",
       "      <th>1178</th>\n",
       "      <td>1985.0</td>\n",
       "      <td>23009.0</td>\n",
       "    </tr>\n",
       "  </tbody>\n",
       "</table>\n",
       "<p>566 rows × 2 columns</p>\n",
       "</div>"
      ],
      "text/plain": [
       "           x        y\n",
       "0     1980.0  36009.0\n",
       "15    1981.0  36009.0\n",
       "16    1980.0  35970.0\n",
       "31    1981.0  35970.0\n",
       "32    2021.0  34748.0\n",
       "...      ...      ...\n",
       "1165  1985.0  23088.0\n",
       "1167  1986.0  23088.0\n",
       "1171  1985.0  23048.0\n",
       "1176  1986.0  23048.0\n",
       "1178  1985.0  23009.0\n",
       "\n",
       "[566 rows x 2 columns]"
      ]
     },
     "execution_count": 189,
     "metadata": {},
     "output_type": "execute_result"
    }
   ],
   "source": [
    "df3"
   ]
  },
  {
   "cell_type": "code",
   "execution_count": 200,
   "metadata": {},
   "outputs": [
    {
     "data": {
      "text/plain": [
       "[<matplotlib.lines.Line2D at 0x1f5ed9fd2c8>,\n",
       " <matplotlib.lines.Line2D at 0x1f5ed9fd4c8>]"
      ]
     },
     "execution_count": 200,
     "metadata": {},
     "output_type": "execute_result"
    },
    {
     "data": {
      "image/png": "[encoded data removed]",
      "text/plain": [
       "<Figure size 432x288 with 1 Axes>"
      ]
     },
     "metadata": {
      "needs_background": "light"
     },
     "output_type": "display_data"
    }
   ],
   "source": [
    "plt.plot(df3)"
   ]
  },
  {
   "cell_type": "code",
   "execution_count": 202,
   "metadata": {},
   "outputs": [],
   "source": [
    "df4 = df3.drop_duplicates(subset=['x'])"
   ]
  },
  {
   "cell_type": "code",
   "execution_count": 203,
   "metadata": {},
   "outputs": [
    {
     "data": {
      "text/html": [
       "<div>\n",
       "<style scoped>\n",
       "    .dataframe tbody tr th:only-of-type {\n",
       "        vertical-align: middle;\n",
       "    }\n",
       "\n",
       "    .dataframe tbody tr th {\n",
       "        vertical-align: top;\n",
       "    }\n",
       "\n",
       "    .dataframe thead th {\n",
       "        text-align: right;\n",
       "    }\n",
       "</style>\n",
       "<table border=\"1\" class=\"dataframe\">\n",
       "  <thead>\n",
       "    <tr style=\"text-align: right;\">\n",
       "      <th></th>\n",
       "      <th>x</th>\n",
       "      <th>y</th>\n",
       "    </tr>\n",
       "  </thead>\n",
       "  <tbody>\n",
       "    <tr>\n",
       "      <th>0</th>\n",
       "      <td>1980.0</td>\n",
       "      <td>36009.0</td>\n",
       "    </tr>\n",
       "    <tr>\n",
       "      <th>15</th>\n",
       "      <td>1981.0</td>\n",
       "      <td>36009.0</td>\n",
       "    </tr>\n",
       "    <tr>\n",
       "      <th>32</th>\n",
       "      <td>2021.0</td>\n",
       "      <td>34748.0</td>\n",
       "    </tr>\n",
       "    <tr>\n",
       "      <th>52</th>\n",
       "      <td>2020.0</td>\n",
       "      <td>33921.0</td>\n",
       "    </tr>\n",
       "    <tr>\n",
       "      <th>90</th>\n",
       "      <td>2019.0</td>\n",
       "      <td>32700.0</td>\n",
       "    </tr>\n",
       "    <tr>\n",
       "      <th>112</th>\n",
       "      <td>2018.0</td>\n",
       "      <td>32227.0</td>\n",
       "    </tr>\n",
       "    <tr>\n",
       "      <th>130</th>\n",
       "      <td>2010.0</td>\n",
       "      <td>31991.0</td>\n",
       "    </tr>\n",
       "    <tr>\n",
       "      <th>134</th>\n",
       "      <td>2009.0</td>\n",
       "      <td>31952.0</td>\n",
       "    </tr>\n",
       "    <tr>\n",
       "      <th>173</th>\n",
       "      <td>2017.0</td>\n",
       "      <td>31833.0</td>\n",
       "    </tr>\n",
       "    <tr>\n",
       "      <th>193</th>\n",
       "      <td>2008.0</td>\n",
       "      <td>31597.0</td>\n",
       "    </tr>\n",
       "    <tr>\n",
       "      <th>225</th>\n",
       "      <td>2003.0</td>\n",
       "      <td>31164.0</td>\n",
       "    </tr>\n",
       "    <tr>\n",
       "      <th>249</th>\n",
       "      <td>2004.0</td>\n",
       "      <td>31085.0</td>\n",
       "    </tr>\n",
       "    <tr>\n",
       "      <th>276</th>\n",
       "      <td>2002.0</td>\n",
       "      <td>30967.0</td>\n",
       "    </tr>\n",
       "    <tr>\n",
       "      <th>296</th>\n",
       "      <td>2007.0</td>\n",
       "      <td>30927.0</td>\n",
       "    </tr>\n",
       "    <tr>\n",
       "      <th>299</th>\n",
       "      <td>2011.0</td>\n",
       "      <td>30927.0</td>\n",
       "    </tr>\n",
       "    <tr>\n",
       "      <th>333</th>\n",
       "      <td>2005.0</td>\n",
       "      <td>30809.0</td>\n",
       "    </tr>\n",
       "    <tr>\n",
       "      <th>353</th>\n",
       "      <td>2006.0</td>\n",
       "      <td>30770.0</td>\n",
       "    </tr>\n",
       "    <tr>\n",
       "      <th>441</th>\n",
       "      <td>2001.0</td>\n",
       "      <td>30612.0</td>\n",
       "    </tr>\n",
       "    <tr>\n",
       "      <th>457</th>\n",
       "      <td>2016.0</td>\n",
       "      <td>30573.0</td>\n",
       "    </tr>\n",
       "    <tr>\n",
       "      <th>472</th>\n",
       "      <td>2012.0</td>\n",
       "      <td>30455.0</td>\n",
       "    </tr>\n",
       "    <tr>\n",
       "      <th>524</th>\n",
       "      <td>2013.0</td>\n",
       "      <td>30021.0</td>\n",
       "    </tr>\n",
       "    <tr>\n",
       "      <th>552</th>\n",
       "      <td>2015.0</td>\n",
       "      <td>29745.0</td>\n",
       "    </tr>\n",
       "    <tr>\n",
       "      <th>574</th>\n",
       "      <td>2014.0</td>\n",
       "      <td>29588.0</td>\n",
       "    </tr>\n",
       "    <tr>\n",
       "      <th>612</th>\n",
       "      <td>2000.0</td>\n",
       "      <td>29430.0</td>\n",
       "    </tr>\n",
       "    <tr>\n",
       "      <th>649</th>\n",
       "      <td>1999.0</td>\n",
       "      <td>28170.0</td>\n",
       "    </tr>\n",
       "    <tr>\n",
       "      <th>672</th>\n",
       "      <td>1998.0</td>\n",
       "      <td>27539.0</td>\n",
       "    </tr>\n",
       "    <tr>\n",
       "      <th>685</th>\n",
       "      <td>1993.0</td>\n",
       "      <td>27185.0</td>\n",
       "    </tr>\n",
       "    <tr>\n",
       "      <th>717</th>\n",
       "      <td>1994.0</td>\n",
       "      <td>26988.0</td>\n",
       "    </tr>\n",
       "    <tr>\n",
       "      <th>720</th>\n",
       "      <td>1992.0</td>\n",
       "      <td>26948.0</td>\n",
       "    </tr>\n",
       "    <tr>\n",
       "      <th>747</th>\n",
       "      <td>1997.0</td>\n",
       "      <td>26830.0</td>\n",
       "    </tr>\n",
       "    <tr>\n",
       "      <th>786</th>\n",
       "      <td>1995.0</td>\n",
       "      <td>26594.0</td>\n",
       "    </tr>\n",
       "    <tr>\n",
       "      <th>809</th>\n",
       "      <td>1996.0</td>\n",
       "      <td>26515.0</td>\n",
       "    </tr>\n",
       "    <tr>\n",
       "      <th>859</th>\n",
       "      <td>1991.0</td>\n",
       "      <td>26200.0</td>\n",
       "    </tr>\n",
       "    <tr>\n",
       "      <th>879</th>\n",
       "      <td>1990.0</td>\n",
       "      <td>25609.0</td>\n",
       "    </tr>\n",
       "    <tr>\n",
       "      <th>902</th>\n",
       "      <td>1989.0</td>\n",
       "      <td>25097.0</td>\n",
       "    </tr>\n",
       "    <tr>\n",
       "      <th>915</th>\n",
       "      <td>1979.0</td>\n",
       "      <td>24742.0</td>\n",
       "    </tr>\n",
       "    <tr>\n",
       "      <th>939</th>\n",
       "      <td>1982.0</td>\n",
       "      <td>24545.0</td>\n",
       "    </tr>\n",
       "    <tr>\n",
       "      <th>971</th>\n",
       "      <td>1988.0</td>\n",
       "      <td>24467.0</td>\n",
       "    </tr>\n",
       "    <tr>\n",
       "      <th>1033</th>\n",
       "      <td>1983.0</td>\n",
       "      <td>24309.0</td>\n",
       "    </tr>\n",
       "    <tr>\n",
       "      <th>1072</th>\n",
       "      <td>1987.0</td>\n",
       "      <td>23836.0</td>\n",
       "    </tr>\n",
       "    <tr>\n",
       "      <th>1083</th>\n",
       "      <td>1984.0</td>\n",
       "      <td>23718.0</td>\n",
       "    </tr>\n",
       "    <tr>\n",
       "      <th>1136</th>\n",
       "      <td>1985.0</td>\n",
       "      <td>23324.0</td>\n",
       "    </tr>\n",
       "    <tr>\n",
       "      <th>1137</th>\n",
       "      <td>1986.0</td>\n",
       "      <td>23324.0</td>\n",
       "    </tr>\n",
       "  </tbody>\n",
       "</table>\n",
       "</div>"
      ],
      "text/plain": [
       "           x        y\n",
       "0     1980.0  36009.0\n",
       "15    1981.0  36009.0\n",
       "32    2021.0  34748.0\n",
       "52    2020.0  33921.0\n",
       "90    2019.0  32700.0\n",
       "112   2018.0  32227.0\n",
       "130   2010.0  31991.0\n",
       "134   2009.0  31952.0\n",
       "173   2017.0  31833.0\n",
       "193   2008.0  31597.0\n",
       "225   2003.0  31164.0\n",
       "249   2004.0  31085.0\n",
       "276   2002.0  30967.0\n",
       "296   2007.0  30927.0\n",
       "299   2011.0  30927.0\n",
       "333   2005.0  30809.0\n",
       "353   2006.0  30770.0\n",
       "441   2001.0  30612.0\n",
       "457   2016.0  30573.0\n",
       "472   2012.0  30455.0\n",
       "524   2013.0  30021.0\n",
       "552   2015.0  29745.0\n",
       "574   2014.0  29588.0\n",
       "612   2000.0  29430.0\n",
       "649   1999.0  28170.0\n",
       "672   1998.0  27539.0\n",
       "685   1993.0  27185.0\n",
       "717   1994.0  26988.0\n",
       "720   1992.0  26948.0\n",
       "747   1997.0  26830.0\n",
       "786   1995.0  26594.0\n",
       "809   1996.0  26515.0\n",
       "859   1991.0  26200.0\n",
       "879   1990.0  25609.0\n",
       "902   1989.0  25097.0\n",
       "915   1979.0  24742.0\n",
       "939   1982.0  24545.0\n",
       "971   1988.0  24467.0\n",
       "1033  1983.0  24309.0\n",
       "1072  1987.0  23836.0\n",
       "1083  1984.0  23718.0\n",
       "1136  1985.0  23324.0\n",
       "1137  1986.0  23324.0"
      ]
     },
     "execution_count": 203,
     "metadata": {},
     "output_type": "execute_result"
    }
   ],
   "source": [
    "df4"
   ]
  },
  {
   "cell_type": "code",
   "execution_count": 204,
   "metadata": {},
   "outputs": [
    {
     "data": {
      "text/plain": [
       "43"
      ]
     },
     "execution_count": 204,
     "metadata": {},
     "output_type": "execute_result"
    }
   ],
   "source": [
    "len(df4)"
   ]
  },
  {
   "cell_type": "code",
   "execution_count": 205,
   "metadata": {},
   "outputs": [],
   "source": [
    "df5 = df4.sort_values(by=['x'])"
   ]
  },
  {
   "cell_type": "code",
   "execution_count": 1,
   "metadata": {},
   "outputs": [
    {
     "ename": "SyntaxError",
     "evalue": "invalid syntax (<ipython-input-1-c8607d4725d9>, line 1)",
     "output_type": "error",
     "traceback": [
      "\u001b[1;36m  File \u001b[1;32m\"<ipython-input-1-c8607d4725d9>\"\u001b[1;36m, line \u001b[1;32m1\u001b[0m\n\u001b[1;33m    git remote add origin https://github.com/kiwipumpkin/plotbot.git\u001b[0m\n\u001b[1;37m             ^\u001b[0m\n\u001b[1;31mSyntaxError\u001b[0m\u001b[1;31m:\u001b[0m invalid syntax\n"
     ]
    }
   ],
   "source": [
    "git remote add origin https://github.com/kiwipumpkin/plotbot.git\n",
    "git branch -M main\n",
    "git push -u origin main"
   ]
  },
  {
   "cell_type": "code",
   "execution_count": 206,
   "metadata": {
    "scrolled": true
   },
   "outputs": [
    {
     "data": {
      "text/html": [
       "<div>\n",
       "<style scoped>\n",
       "    .dataframe tbody tr th:only-of-type {\n",
       "        vertical-align: middle;\n",
       "    }\n",
       "\n",
       "    .dataframe tbody tr th {\n",
       "        vertical-align: top;\n",
       "    }\n",
       "\n",
       "    .dataframe thead th {\n",
       "        text-align: right;\n",
       "    }\n",
       "</style>\n",
       "<table border=\"1\" class=\"dataframe\">\n",
       "  <thead>\n",
       "    <tr style=\"text-align: right;\">\n",
       "      <th></th>\n",
       "      <th>x</th>\n",
       "      <th>y</th>\n",
       "    </tr>\n",
       "  </thead>\n",
       "  <tbody>\n",
       "    <tr>\n",
       "      <th>915</th>\n",
       "      <td>1979.0</td>\n",
       "      <td>24742.0</td>\n",
       "    </tr>\n",
       "    <tr>\n",
       "      <th>0</th>\n",
       "      <td>1980.0</td>\n",
       "      <td>36009.0</td>\n",
       "    </tr>\n",
       "    <tr>\n",
       "      <th>15</th>\n",
       "      <td>1981.0</td>\n",
       "      <td>36009.0</td>\n",
       "    </tr>\n",
       "    <tr>\n",
       "      <th>939</th>\n",
       "      <td>1982.0</td>\n",
       "      <td>24545.0</td>\n",
       "    </tr>\n",
       "    <tr>\n",
       "      <th>1033</th>\n",
       "      <td>1983.0</td>\n",
       "      <td>24309.0</td>\n",
       "    </tr>\n",
       "    <tr>\n",
       "      <th>1083</th>\n",
       "      <td>1984.0</td>\n",
       "      <td>23718.0</td>\n",
       "    </tr>\n",
       "    <tr>\n",
       "      <th>1136</th>\n",
       "      <td>1985.0</td>\n",
       "      <td>23324.0</td>\n",
       "    </tr>\n",
       "    <tr>\n",
       "      <th>1137</th>\n",
       "      <td>1986.0</td>\n",
       "      <td>23324.0</td>\n",
       "    </tr>\n",
       "    <tr>\n",
       "      <th>1072</th>\n",
       "      <td>1987.0</td>\n",
       "      <td>23836.0</td>\n",
       "    </tr>\n",
       "    <tr>\n",
       "      <th>971</th>\n",
       "      <td>1988.0</td>\n",
       "      <td>24467.0</td>\n",
       "    </tr>\n",
       "    <tr>\n",
       "      <th>902</th>\n",
       "      <td>1989.0</td>\n",
       "      <td>25097.0</td>\n",
       "    </tr>\n",
       "    <tr>\n",
       "      <th>879</th>\n",
       "      <td>1990.0</td>\n",
       "      <td>25609.0</td>\n",
       "    </tr>\n",
       "    <tr>\n",
       "      <th>859</th>\n",
       "      <td>1991.0</td>\n",
       "      <td>26200.0</td>\n",
       "    </tr>\n",
       "    <tr>\n",
       "      <th>720</th>\n",
       "      <td>1992.0</td>\n",
       "      <td>26948.0</td>\n",
       "    </tr>\n",
       "    <tr>\n",
       "      <th>685</th>\n",
       "      <td>1993.0</td>\n",
       "      <td>27185.0</td>\n",
       "    </tr>\n",
       "    <tr>\n",
       "      <th>717</th>\n",
       "      <td>1994.0</td>\n",
       "      <td>26988.0</td>\n",
       "    </tr>\n",
       "    <tr>\n",
       "      <th>786</th>\n",
       "      <td>1995.0</td>\n",
       "      <td>26594.0</td>\n",
       "    </tr>\n",
       "    <tr>\n",
       "      <th>809</th>\n",
       "      <td>1996.0</td>\n",
       "      <td>26515.0</td>\n",
       "    </tr>\n",
       "    <tr>\n",
       "      <th>747</th>\n",
       "      <td>1997.0</td>\n",
       "      <td>26830.0</td>\n",
       "    </tr>\n",
       "    <tr>\n",
       "      <th>672</th>\n",
       "      <td>1998.0</td>\n",
       "      <td>27539.0</td>\n",
       "    </tr>\n",
       "    <tr>\n",
       "      <th>649</th>\n",
       "      <td>1999.0</td>\n",
       "      <td>28170.0</td>\n",
       "    </tr>\n",
       "    <tr>\n",
       "      <th>612</th>\n",
       "      <td>2000.0</td>\n",
       "      <td>29430.0</td>\n",
       "    </tr>\n",
       "    <tr>\n",
       "      <th>441</th>\n",
       "      <td>2001.0</td>\n",
       "      <td>30612.0</td>\n",
       "    </tr>\n",
       "    <tr>\n",
       "      <th>276</th>\n",
       "      <td>2002.0</td>\n",
       "      <td>30967.0</td>\n",
       "    </tr>\n",
       "    <tr>\n",
       "      <th>225</th>\n",
       "      <td>2003.0</td>\n",
       "      <td>31164.0</td>\n",
       "    </tr>\n",
       "    <tr>\n",
       "      <th>249</th>\n",
       "      <td>2004.0</td>\n",
       "      <td>31085.0</td>\n",
       "    </tr>\n",
       "    <tr>\n",
       "      <th>333</th>\n",
       "      <td>2005.0</td>\n",
       "      <td>30809.0</td>\n",
       "    </tr>\n",
       "    <tr>\n",
       "      <th>353</th>\n",
       "      <td>2006.0</td>\n",
       "      <td>30770.0</td>\n",
       "    </tr>\n",
       "    <tr>\n",
       "      <th>296</th>\n",
       "      <td>2007.0</td>\n",
       "      <td>30927.0</td>\n",
       "    </tr>\n",
       "    <tr>\n",
       "      <th>193</th>\n",
       "      <td>2008.0</td>\n",
       "      <td>31597.0</td>\n",
       "    </tr>\n",
       "    <tr>\n",
       "      <th>134</th>\n",
       "      <td>2009.0</td>\n",
       "      <td>31952.0</td>\n",
       "    </tr>\n",
       "    <tr>\n",
       "      <th>130</th>\n",
       "      <td>2010.0</td>\n",
       "      <td>31991.0</td>\n",
       "    </tr>\n",
       "    <tr>\n",
       "      <th>299</th>\n",
       "      <td>2011.0</td>\n",
       "      <td>30927.0</td>\n",
       "    </tr>\n",
       "    <tr>\n",
       "      <th>472</th>\n",
       "      <td>2012.0</td>\n",
       "      <td>30455.0</td>\n",
       "    </tr>\n",
       "    <tr>\n",
       "      <th>524</th>\n",
       "      <td>2013.0</td>\n",
       "      <td>30021.0</td>\n",
       "    </tr>\n",
       "    <tr>\n",
       "      <th>574</th>\n",
       "      <td>2014.0</td>\n",
       "      <td>29588.0</td>\n",
       "    </tr>\n",
       "    <tr>\n",
       "      <th>552</th>\n",
       "      <td>2015.0</td>\n",
       "      <td>29745.0</td>\n",
       "    </tr>\n",
       "    <tr>\n",
       "      <th>457</th>\n",
       "      <td>2016.0</td>\n",
       "      <td>30573.0</td>\n",
       "    </tr>\n",
       "    <tr>\n",
       "      <th>173</th>\n",
       "      <td>2017.0</td>\n",
       "      <td>31833.0</td>\n",
       "    </tr>\n",
       "    <tr>\n",
       "      <th>112</th>\n",
       "      <td>2018.0</td>\n",
       "      <td>32227.0</td>\n",
       "    </tr>\n",
       "    <tr>\n",
       "      <th>90</th>\n",
       "      <td>2019.0</td>\n",
       "      <td>32700.0</td>\n",
       "    </tr>\n",
       "    <tr>\n",
       "      <th>52</th>\n",
       "      <td>2020.0</td>\n",
       "      <td>33921.0</td>\n",
       "    </tr>\n",
       "    <tr>\n",
       "      <th>32</th>\n",
       "      <td>2021.0</td>\n",
       "      <td>34748.0</td>\n",
       "    </tr>\n",
       "  </tbody>\n",
       "</table>\n",
       "</div>"
      ],
      "text/plain": [
       "           x        y\n",
       "915   1979.0  24742.0\n",
       "0     1980.0  36009.0\n",
       "15    1981.0  36009.0\n",
       "939   1982.0  24545.0\n",
       "1033  1983.0  24309.0\n",
       "1083  1984.0  23718.0\n",
       "1136  1985.0  23324.0\n",
       "1137  1986.0  23324.0\n",
       "1072  1987.0  23836.0\n",
       "971   1988.0  24467.0\n",
       "902   1989.0  25097.0\n",
       "879   1990.0  25609.0\n",
       "859   1991.0  26200.0\n",
       "720   1992.0  26948.0\n",
       "685   1993.0  27185.0\n",
       "717   1994.0  26988.0\n",
       "786   1995.0  26594.0\n",
       "809   1996.0  26515.0\n",
       "747   1997.0  26830.0\n",
       "672   1998.0  27539.0\n",
       "649   1999.0  28170.0\n",
       "612   2000.0  29430.0\n",
       "441   2001.0  30612.0\n",
       "276   2002.0  30967.0\n",
       "225   2003.0  31164.0\n",
       "249   2004.0  31085.0\n",
       "333   2005.0  30809.0\n",
       "353   2006.0  30770.0\n",
       "296   2007.0  30927.0\n",
       "193   2008.0  31597.0\n",
       "134   2009.0  31952.0\n",
       "130   2010.0  31991.0\n",
       "299   2011.0  30927.0\n",
       "472   2012.0  30455.0\n",
       "524   2013.0  30021.0\n",
       "574   2014.0  29588.0\n",
       "552   2015.0  29745.0\n",
       "457   2016.0  30573.0\n",
       "173   2017.0  31833.0\n",
       "112   2018.0  32227.0\n",
       "90    2019.0  32700.0\n",
       "52    2020.0  33921.0\n",
       "32    2021.0  34748.0"
      ]
     },
     "execution_count": 206,
     "metadata": {},
     "output_type": "execute_result"
    }
   ],
   "source": [
    "df5"
   ]
  }
 ],
 "metadata": {
  "kernelspec": {
   "display_name": "Python 3",
   "language": "python",
   "name": "python3"
  },
  "language_info": {
   "codemirror_mode": {
    "name": "ipython",
    "version": 3
   },
   "file_extension": ".py",
   "mimetype": "text/x-python",
   "name": "python",
   "nbconvert_exporter": "python",
   "pygments_lexer": "ipython3",
   "version": "3.7.6"
  }
 },
 "nbformat": 4,
 "nbformat_minor": 4
}
